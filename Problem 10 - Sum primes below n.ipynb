{
 "cells": [
  {
   "cell_type": "code",
   "execution_count": 2,
   "metadata": {},
   "outputs": [
    {
     "name": "stdout",
     "output_type": "stream",
     "text": [
      "142913828922 0:03:09.138894\n"
     ]
    }
   ],
   "source": [
    "import math\n",
    "from datetime import datetime\n",
    "startTime = datetime.now()\n",
    "\n",
    "n = 2e6\n",
    "i = 5 #initialise at 5 to make looping more efficient\n",
    "sum_of_primes = 10 #initialise the answer as the sum of 2,3,5 as they will not be accounted for in loop\n",
    "\n",
    "#Loop through all numbers between i and n\n",
    "while i < n-1:\n",
    "    potential_prime = True #set the boolean operator of prime to be True\n",
    "    potential_factor = 1 #initialise second loop counter\n",
    "    factor_counter = 0 #initialise the loop which records the number of factors something has\n",
    "    \n",
    "    if i % 2 == 0 or i % 3 ==0 or i % 5 ==0: #if the current 1st loop value is divisible by any of these it is not a prime\n",
    "        potential_prime = False #set prime Boolean to False\n",
    "        \n",
    "    if potential_prime == True:    #if Prime Boolean is still true then check\n",
    "        while potential_factor < i:\n",
    "            if i%potential_factor == 0:\n",
    "                factor_counter +=1 #if any value of j divides into i then increment k\n",
    "                \n",
    "            if potential_factor > math.sqrt(i): #this line saves SO much time. once potnetial_factor is above the square root of the number then it will either \n",
    "                                #have factors or not have factors so either way we can break the loop\n",
    "                break\n",
    "            potential_factor += 1\n",
    "            \n",
    "        if factor_counter == 1: #if prime_counter i was only divisible by 1 number then it is a prime\n",
    "            sum_of_primes += i\n",
    " \n",
    "    i += 1\n",
    "\n",
    "print(sum_of_primes, (datetime.now() - startTime))\n",
    "        "
   ]
  }
 ],
 "metadata": {
  "kernelspec": {
   "display_name": "Python 3",
   "language": "python",
   "name": "python3"
  },
  "language_info": {
   "codemirror_mode": {
    "name": "ipython",
    "version": 3
   },
   "file_extension": ".py",
   "mimetype": "text/x-python",
   "name": "python",
   "nbconvert_exporter": "python",
   "pygments_lexer": "ipython3",
   "version": "3.6.5"
  }
 },
 "nbformat": 4,
 "nbformat_minor": 2
}
