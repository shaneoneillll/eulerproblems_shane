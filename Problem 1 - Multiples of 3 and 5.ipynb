{
 "cells": [
  {
   "cell_type": "code",
   "execution_count": 1,
   "metadata": {},
   "outputs": [
    {
     "data": {
      "text/plain": [
       "233168"
      ]
     },
     "execution_count": 1,
     "metadata": {},
     "output_type": "execute_result"
    }
   ],
   "source": [
    "def sum_35(x):\n",
    "    i = 0\n",
    "    j = 0 #initialise loop variables\n",
    "    while i < x:\n",
    "        if i % 3 == 0:\n",
    "            j = j + i # if the increment value is divisible by 3 then add to j\n",
    "        elif i % 5 == 0:\n",
    "            j = j + i # if the increment value is divisible by 5 then add to j\n",
    "        i += 1 # increment loop\n",
    "    \n",
    "    return j\n",
    "\n",
    "sum_35(1000) #BOOM!"
   ]
  },
  {
   "cell_type": "code",
   "execution_count": null,
   "metadata": {},
   "outputs": [],
   "source": []
  }
 ],
 "metadata": {
  "kernelspec": {
   "display_name": "Python 3",
   "language": "python",
   "name": "python3"
  },
  "language_info": {
   "codemirror_mode": {
    "name": "ipython",
    "version": 3
   },
   "file_extension": ".py",
   "mimetype": "text/x-python",
   "name": "python",
   "nbconvert_exporter": "python",
   "pygments_lexer": "ipython3",
   "version": "3.6.5"
  }
 },
 "nbformat": 4,
 "nbformat_minor": 2
}
