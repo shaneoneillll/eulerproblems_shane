{
 "cells": [
  {
   "cell_type": "code",
   "execution_count": 3,
   "metadata": {},
   "outputs": [
    {
     "name": "stdout",
     "output_type": "stream",
     "text": [
      "31875000.0 0:00:00.083356\n"
     ]
    }
   ],
   "source": [
    "from datetime import datetime\n",
    "startTime = datetime.now()\n",
    "import math #for square root function\n",
    "a = 1 #intialise paramteres for left hand side of equation\n",
    "b = 4\n",
    "\n",
    "c = math.sqrt(a**2 + b**2) #initialise c but constrain it to a and b. This constraint saves a LOT of hassle \n",
    "\n",
    "while (a+b+c) != 1000: # while the three digits don't add to 1000\n",
    "    a = 1 #reinitialise so that it can cycle through all values of a every time b is incremented\n",
    "    while a < b-1: #keeps a less than b for all loop cycles \n",
    "        c = math.sqrt((a**2)+(b**2)) #updates values of c\n",
    "        if (a+b+c) == 1000:\n",
    "            break #break first loop if criteria is met\n",
    "        a += 1\n",
    "    if (a+b+c) == 1000:\n",
    "            break #break second loop to display result\n",
    "    \n",
    "    \n",
    "    \n",
    "    b += 1\n",
    "\n",
    "print(a*b*c,(datetime.now() - startTime))"
   ]
  },
  {
   "cell_type": "code",
   "execution_count": null,
   "metadata": {},
   "outputs": [],
   "source": []
  }
 ],
 "metadata": {
  "kernelspec": {
   "display_name": "Python 3",
   "language": "python",
   "name": "python3"
  },
  "language_info": {
   "codemirror_mode": {
    "name": "ipython",
    "version": 3
   },
   "file_extension": ".py",
   "mimetype": "text/x-python",
   "name": "python",
   "nbconvert_exporter": "python",
   "pygments_lexer": "ipython3",
   "version": "3.6.5"
  }
 },
 "nbformat": 4,
 "nbformat_minor": 2
}
