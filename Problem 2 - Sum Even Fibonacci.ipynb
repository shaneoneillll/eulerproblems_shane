{
 "cells": [
  {
   "cell_type": "code",
   "execution_count": null,
   "metadata": {},
   "outputs": [],
   "source": [
    "def fibonacci_even_sum_terms(x):\n",
    "    fibonacci_loop = [1] #Initialise sequence with first value 1\n",
    "\n",
    "    l = 0 # initialise l for the loop where l is the index value ranging from 0 to the term specified in function\n",
    "    while len(fibonacci_loop) <= x: #while the index is less than the specified function term, continue the loop\n",
    "        fibonacci_loop.append(fibonacci_loop[l] + fibonacci_loop[(l-1)])  #appends the list with the next value in the /*\n",
    "                                                                          # fibonacci sequence by adding the previous /*\n",
    "                                                                          # two values\n",
    "                                                                            \n",
    "    \n",
    "        l += 1 #increments loop\n",
    "    # initialise variables for loop\n",
    "\n",
    "    j = 0 #summed values\n",
    "    k = 0 #index value\n",
    "    a = 0 #indexed value\n",
    "    while a < fibonacci_loop[x]: # while the indexed value is less than the indexed value of the term specified, continue the \n",
    "                                 # the loop. This is so it is a general functiont that will work for all even values up to 4e6\n",
    "        a = fibonacci_loop[k] #idk why I had to do this inside the loop but it wouldnae work when it was outside\n",
    "        if a % 2 == 0: #if the value at the index is divisible by two then:\n",
    "            if j > 4e6: #break loop once the sum exceeds 4 million\n",
    "                break \n",
    "            j += a     # add the value to the sum     \n",
    "        k += 1 # increment loop\n",
    "    return(j)\n",
    "fibonacci_even_sum_terms(4e6) #BOOM!"
   ]
  },
  {
   "cell_type": "code",
   "execution_count": 2,
   "metadata": {},
   "outputs": [
    {
     "data": {
      "text/plain": [
       "4613732"
      ]
     },
     "execution_count": 2,
     "metadata": {},
     "output_type": "execute_result"
    }
   ],
   "source": [
    "#Let's try with a for loop\n",
    "def fibonacci_even_sum_terms(x):\n",
    "    fibonacci_loop2 = [1] #Initialise sequence with first value 1\n",
    "\n",
    "    y = 0 # initialise l for the loop where l is the index value ranging from 0 to the term specified in function\n",
    "    for y in range(0,x):#while the index is less than the specified function term, continue the loop\n",
    "        fibonacci_loop2.append(fibonacci_loop2[y] + fibonacci_loop2[(y-1)])  #appends the list with the next value in the /*\n",
    "                                                                          # fibonacci sequence by adding the previous /*\n",
    "                                                                          # two values\n",
    "                                                                            \n",
    "    \n",
    "        y += 1 #increments loop\n",
    "    # initialise variables for loop\n",
    "\n",
    "    j = 0 #summed values\n",
    "    k = 0 #index value\n",
    "    a = 0 #indexed value\n",
    "    for k in range(0, fibonacci_loop2[x]): # while the indexed value is less than the indexed value of the term specified, continue the \n",
    "                                 # the loop. This is so it is a general functiont that will work for all even values up to 4e6\n",
    "        a = fibonacci_loop2[k] #idk why I had to do this inside the loop but it wouldnae work when it was outside\n",
    "        if a % 2 == 0: #if the value at the index is divisible by two then:\n",
    "            if j > 4e6: #break loop once the sum exceeds 4 million\n",
    "                break \n",
    "            j += a     # add the value to the sum     \n",
    "       \n",
    "    return(j)\n",
    "fibonacci_even_sum_terms(80) #BOOM!"
   ]
  },
  {
   "cell_type": "code",
   "execution_count": null,
   "metadata": {},
   "outputs": [],
   "source": []
  }
 ],
 "metadata": {
  "kernelspec": {
   "display_name": "Python 3",
   "language": "python",
   "name": "python3"
  },
  "language_info": {
   "codemirror_mode": {
    "name": "ipython",
    "version": 3
   },
   "file_extension": ".py",
   "mimetype": "text/x-python",
   "name": "python",
   "nbconvert_exporter": "python",
   "pygments_lexer": "ipython3",
   "version": "3.6.5"
  }
 },
 "nbformat": 4,
 "nbformat_minor": 2
}
