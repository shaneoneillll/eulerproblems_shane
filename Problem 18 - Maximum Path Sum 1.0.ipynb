{
 "cells": [
  {
   "cell_type": "code",
   "execution_count": 2,
   "metadata": {},
   "outputs": [
    {
     "data": {
      "text/plain": [
       "[[23, 4, 60, 53, 38, 93, 73, 98, 70, 9, 23, 27, 98, 62, 4],\n",
       " [31, 40, 87, 69, 16, 73, 30, 67, 53, 89, 68, 4, 66, 63],\n",
       " [48, 29, 27, 50, 58, 43, 91, 14, 17, 38, 52, 71, 91],\n",
       " [57, 17, 68, 39, 78, 17, 73, 77, 28, 33, 11, 70],\n",
       " [14, 51, 97, 52, 91, 43, 25, 65, 44, 71, 53],\n",
       " [29, 94, 16, 37, 32, 47, 33, 72, 48, 41],\n",
       " [33, 70, 80, 40, 83, 56, 26, 41, 41],\n",
       " [92, 70, 16, 6, 28, 4, 65, 99],\n",
       " [67, 63, 7, 73, 77, 2, 88],\n",
       " [34, 3, 75, 23, 1, 19],\n",
       " [65, 47, 82, 4, 20],\n",
       " [10, 87, 35, 18],\n",
       " [82, 47, 17],\n",
       " [64, 95],\n",
       " [75]]"
      ]
     },
     "execution_count": 2,
     "metadata": {},
     "output_type": "execute_result"
    }
   ],
   "source": [
    "#string = '3 7 4 2 4 6 8 5 9 3'\n",
    "string = \"75 95 64 17 47 82 18 35 87 10 20 04 82 47 65 19 01 23 75 03 34 88 02 77 73 07 63 67 99 65 04 28 06 16 70 92 41 41 26 56 83 40 80 70 33 41 48 72 33 47 32 37 16 94 29 53 71 44 65 25 43 91 52 97 51 14 70 11 33 28 77 73 17 78 39 68 17 57 91 71 52 38 17 14 91 43 58 50 27 29 48 63 66 04 68 89 53 67 30 73 16 69 87 40 31 04 62 98 27 23 09 70 98 73 93 38 53 60 04 23\"\n",
    "\n",
    "#Sort the string into a list of lists\n",
    "string = string.replace(\" \", \"\")\n",
    "pyramid = []\n",
    "\n",
    "total_rows = 15\n",
    "row_counter = 0\n",
    "row_length = total_rows\n",
    "number_counter = 1\n",
    "index = len(string)\n",
    "while row_counter < total_rows:\n",
    "    \n",
    "    \n",
    "    pyramid_list = []\n",
    "    while len(pyramid_list) < row_length:\n",
    "        \n",
    "        pyramid_list.append(int(string[index-2]+string[index -1]))\n",
    "        index -= 2\n",
    "        \n",
    "    pyramid.append(pyramid_list)\n",
    "    row_counter += 1\n",
    "    row_length -= 1\n",
    "    \n",
    "\n",
    "pyramid"
   ]
  },
  {
   "cell_type": "code",
   "execution_count": 9,
   "metadata": {},
   "outputs": [
    {
     "name": "stdout",
     "output_type": "stream",
     "text": [
      "[95, 64] 95 170\n",
      "[17, 47, 82] 47 217\n",
      "[18, 35, 87, 10] 87 304\n",
      "[20, 4, 82, 47, 65] 82 386\n",
      "[19, 1, 23, 75, 3, 34] 75 461\n",
      "[88, 2, 77, 73, 7, 63, 67] 73 534\n",
      "[99, 65, 4, 28, 6, 16, 70, 92] 28 562\n",
      "[41, 41, 26, 56, 83, 40, 80, 70, 33] 83 645\n",
      "[41, 48, 72, 33, 47, 32, 37, 16, 94, 29] 47 692\n",
      "[53, 71, 44, 65, 25, 43, 91, 52, 97, 51, 14] 43 735\n",
      "[70, 11, 33, 28, 77, 73, 17, 78, 39, 68, 17, 57] 73 808\n",
      "[91, 71, 52, 38, 17, 14, 91, 43, 58, 50, 27, 29, 48] 91 899\n",
      "[63, 66, 4, 68, 89, 53, 67, 30, 73, 16, 69, 87, 40, 31] 67 966\n",
      "[4, 62, 98, 27, 23, 9, 70, 98, 73, 93, 38, 53, 60, 4, 23] 98 1064\n"
     ]
    },
    {
     "ename": "IndexError",
     "evalue": "list index out of range",
     "output_type": "error",
     "traceback": [
      "\u001b[1;31m---------------------------------------------------------------------------\u001b[0m",
      "\u001b[1;31mIndexError\u001b[0m                                Traceback (most recent call last)",
      "\u001b[1;32m<ipython-input-9-2df0c7763f75>\u001b[0m in \u001b[0;36m<module>\u001b[1;34m()\u001b[0m\n\u001b[0;32m     17\u001b[0m \u001b[1;33m\u001b[0m\u001b[0m\n\u001b[0;32m     18\u001b[0m \u001b[1;33m\u001b[0m\u001b[0m\n\u001b[1;32m---> 19\u001b[1;33m     \u001b[1;32mif\u001b[0m \u001b[0mcurrent_line\u001b[0m\u001b[1;33m[\u001b[0m\u001b[0mprevious\u001b[0m\u001b[1;33m]\u001b[0m \u001b[1;33m>\u001b[0m \u001b[0mcurrent_line\u001b[0m\u001b[1;33m[\u001b[0m\u001b[0mcurrent\u001b[0m\u001b[1;33m]\u001b[0m\u001b[1;33m:\u001b[0m\u001b[1;33m\u001b[0m\u001b[0m\n\u001b[0m\u001b[0;32m     20\u001b[0m         \u001b[0mlargest\u001b[0m \u001b[1;33m=\u001b[0m \u001b[0mcurrent_line\u001b[0m\u001b[1;33m[\u001b[0m\u001b[0mprevious\u001b[0m\u001b[1;33m]\u001b[0m\u001b[1;33m\u001b[0m\u001b[0m\n\u001b[0;32m     21\u001b[0m \u001b[1;33m\u001b[0m\u001b[0m\n",
      "\u001b[1;31mIndexError\u001b[0m: list index out of range"
     ]
    }
   ],
   "source": [
    "\n",
    "total = 0 #end answer\n",
    "largest = 0 #largest of the two index values being compared for the path choice\n",
    "\n",
    "previous_index = 0 #these will distinguish whether the path went left or right. if current is larger than previous then it went left\n",
    "current_index = previous_index + 1\n",
    "\n",
    "\n",
    "while local_range <= len(string):\n",
    "\n",
    "\n",
    "    current_line = pyramid[local_range_start:local_range]\n",
    "\n",
    "    \n",
    "    if current_line[previous_index] > current_line[current_index]:\n",
    "        largest = current_line[previous_index]\n",
    "\n",
    "    else:\n",
    "        largest = current_line[current_index]\n",
    "        previous_index = current_index\n",
    "        current_index +=1\n",
    "\n",
    "\n",
    "    local_range_start = local_range\n",
    "    new_length += 1\n",
    "    local_range += new_length\n",
    "  \n",
    "    total += largest\n",
    "    print(current_line,largest, total)"
   ]
  },
  {
   "cell_type": "code",
   "execution_count": 48,
   "metadata": {},
   "outputs": [
    {
     "name": "stdout",
     "output_type": "stream",
     "text": [
      "185745 185745\n"
     ]
    }
   ],
   "source": [
    "def iterative_n_sum(end):\n",
    "    ans = 0\n",
    "    for i in range(0,(end+1)):\n",
    "        ans += i\n",
    "    return(ans)\n",
    "    \n",
    "def n_sum(n):\n",
    "    j = int((n**2 + n)/2)\n",
    "    return(j)\n",
    "\n",
    "print(n_sum(609), iterative_n_sum(609))"
   ]
  },
  {
   "cell_type": "code",
   "execution_count": null,
   "metadata": {},
   "outputs": [],
   "source": []
  }
 ],
 "metadata": {
  "kernelspec": {
   "display_name": "Python 3",
   "language": "python",
   "name": "python3"
  },
  "language_info": {
   "codemirror_mode": {
    "name": "ipython",
    "version": 3
   },
   "file_extension": ".py",
   "mimetype": "text/x-python",
   "name": "python",
   "nbconvert_exporter": "python",
   "pygments_lexer": "ipython3",
   "version": "3.6.5"
  }
 },
 "nbformat": 4,
 "nbformat_minor": 2
}
