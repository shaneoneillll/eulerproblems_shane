{
 "cells": [
  {
   "cell_type": "code",
   "execution_count": null,
   "metadata": {},
   "outputs": [],
   "source": [
    "def lcm(s,n): #for range \n",
    "    lcm = 1\n",
    "    j = 2\n",
    "    for i in range(s,(n+1)): \n",
    "        while j > 0: #while j is a positive number\n",
    "            if j % lcm == 0: #if j is divisible by the newest iteration of the outside loop and th eprevious lcm\n",
    "                if j % i == 0:\n",
    "                    lcm = j #make j the new lcm\n",
    "                    break #break inside loop\n",
    "                \n",
    "            j +=1\n",
    "    \n",
    "    return lcm\n",
    "lcm(1,20)"
   ]
  },
  {
   "cell_type": "code",
   "execution_count": 1,
   "metadata": {
    "scrolled": true
   },
   "outputs": [
    {
     "name": "stdout",
     "output_type": "stream",
     "text": [
      "1 2\n",
      "2 2\n",
      "3 6\n",
      "4 12\n",
      "5 60\n",
      "6 60\n",
      "7 420\n",
      "8 840\n",
      "9 2520\n",
      "10 2520\n",
      "11 27720\n",
      "12 27720\n",
      "13 360360\n",
      "14 360360\n",
      "15 360360\n",
      "16 720720\n",
      "17 12252240\n",
      "18 12252240\n",
      "19 232792560\n",
      "20 232792560\n"
     ]
    }
   ],
   "source": [
    "lcm = 1\n",
    "j = 2\n",
    "for i in range(1,(20+1)): \n",
    "    \n",
    "    \n",
    "    while j > 0: #while j is a positive number\n",
    "        \n",
    "        if j % lcm == 0: #if j is divisible by the newest iteration of the outside loop and th eprevious lcm\n",
    "            if j % i == 0:\n",
    "                lcm = j #make j the new lcm\n",
    "                print(i,j)\n",
    "                break #break inside loop\n",
    "        j +=1\n",
    "    \n"
   ]
  },
  {
   "cell_type": "code",
   "execution_count": null,
   "metadata": {},
   "outputs": [],
   "source": [
    "\n"
   ]
  },
  {
   "cell_type": "code",
   "execution_count": null,
   "metadata": {},
   "outputs": [],
   "source": []
  }
 ],
 "metadata": {
  "kernelspec": {
   "display_name": "Python 3",
   "language": "python",
   "name": "python3"
  },
  "language_info": {
   "codemirror_mode": {
    "name": "ipython",
    "version": 3
   },
   "file_extension": ".py",
   "mimetype": "text/x-python",
   "name": "python",
   "nbconvert_exporter": "python",
   "pygments_lexer": "ipython3",
   "version": "3.6.5"
  }
 },
 "nbformat": 4,
 "nbformat_minor": 2
}
