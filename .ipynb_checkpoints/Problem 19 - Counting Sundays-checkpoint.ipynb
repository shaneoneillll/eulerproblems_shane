{
 "cells": [
  {
   "cell_type": "code",
   "execution_count": 7,
   "metadata": {},
   "outputs": [
    {
     "name": "stdout",
     "output_type": "stream",
     "text": [
      "2000 12 31 ( 36526 ) 172\n"
     ]
    }
   ],
   "source": [
    "number_of_months = 12*(2000-1901)\n",
    "\n",
    "#a dictionary to cross reference the number of days in that month\n",
    "#this is so we can know when a new month starts\n",
    "\n",
    "months_days = {\"1\":\"31\", \"2\":\"28\", \"3\":\"31\", \"4\":\"30\", \"5\":\"31\", \"6\":\"30\", \"7\":\"31\", \"8\":\"31\",\n",
    "         \"9\":\"30\", \"10\":\"31\", \"11\":\"30\", \"12\":\"31\"}\n",
    "\n",
    "\n",
    "day_counter = 1\n",
    "sunday_counter = 0\n",
    "#Loop for the years\n",
    "for year in range(1901,2001):\n",
    "    months_days[\"2\"] = \"28\"\n",
    "    \n",
    "    \n",
    "    \n",
    "    #loop for the months\n",
    "    for month in range(1,13):\n",
    "        if year%4 == 0:\n",
    "            months_days[\"2\"] = \"29\"\n",
    "            \n",
    "            \n",
    "        #THREE LOOPS????? Loop for the days\n",
    "        for day in range(1, int(months_days[str(month)])+1):\n",
    "            if day_counter % 7 == 0 and day == 1:\n",
    "                sunday_counter +=1\n",
    "           \n",
    "            day_counter += 1 \n",
    "            #36525 is evenly divisble by 7 so it meets the condition criteria and gives an answer that is too high by one\n",
    "\n",
    "                \n",
    "print(year, month, day,\"(\", day_counter ,\")\", sunday_counter)\n",
    "#ans = 172 - 1 = 171"
   ]
  }
 ],
 "metadata": {
  "kernelspec": {
   "display_name": "Python 3",
   "language": "python",
   "name": "python3"
  },
  "language_info": {
   "codemirror_mode": {
    "name": "ipython",
    "version": 3
   },
   "file_extension": ".py",
   "mimetype": "text/x-python",
   "name": "python",
   "nbconvert_exporter": "python",
   "pygments_lexer": "ipython3",
   "version": "3.6.5"
  }
 },
 "nbformat": 4,
 "nbformat_minor": 2
}
