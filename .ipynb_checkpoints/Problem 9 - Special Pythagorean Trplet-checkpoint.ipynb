{
 "cells": [
  {
   "cell_type": "code",
   "execution_count": 15,
   "metadata": {},
   "outputs": [
    {
     "name": "stdout",
     "output_type": "stream",
     "text": [
      "200 375 425.0\n"
     ]
    },
    {
     "data": {
      "text/plain": [
       "31875000.0"
      ]
     },
     "execution_count": 15,
     "metadata": {},
     "output_type": "execute_result"
    }
   ],
   "source": [
    "import math #for square root function\n",
    "a = 1 #intialise paramteres for left hand side of equation\n",
    "b = 4\n",
    "\n",
    "c = math.sqrt(a**2 + b**2) #initialise c but constrain it to a and b. This constraint saves a LOT of hassle \n",
    "\n",
    "while (a+b+c) != 1000: # while the three digits don't add to 1000\n",
    "    a = 1 #reinitialise so that it can cycle through all values of a every time b is incremented\n",
    "    while a < b-1: #keeps a less than b for all loop cycles \n",
    "        c = math.sqrt((a**2)+(b**2)) #updates values of c\n",
    "        if (a+b+c) == 1000:\n",
    "            break #break first loop if criteria is met\n",
    "        a += 1\n",
    "    if (a+b+c) == 1000:\n",
    "            print(a,b,c)\n",
    "            break #break second loop to display result\n",
    "    \n",
    "    \n",
    "    \n",
    "    b += 1\n",
    "\n",
    "a*b*c"
   ]
  },
  {
   "cell_type": "code",
   "execution_count": null,
   "metadata": {},
   "outputs": [],
   "source": [
    "31875000"
   ]
  }
 ],
 "metadata": {
  "kernelspec": {
   "display_name": "Python 3",
   "language": "python",
   "name": "python3"
  },
  "language_info": {
   "codemirror_mode": {
    "name": "ipython",
    "version": 3
   },
   "file_extension": ".py",
   "mimetype": "text/x-python",
   "name": "python",
   "nbconvert_exporter": "python",
   "pygments_lexer": "ipython3",
   "version": "3.6.5"
  }
 },
 "nbformat": 4,
 "nbformat_minor": 2
}
