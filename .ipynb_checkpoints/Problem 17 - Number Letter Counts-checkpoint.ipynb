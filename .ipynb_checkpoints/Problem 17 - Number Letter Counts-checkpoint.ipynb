{
 "cells": [
  {
   "cell_type": "code",
   "execution_count": 12,
   "metadata": {},
   "outputs": [
    {
     "data": {
      "text/plain": [
       "'nine'"
      ]
     },
     "execution_count": 12,
     "metadata": {},
     "output_type": "execute_result"
    }
   ],
   "source": [
    "numbers = {\"1\" : \"one\", \"2\" : \"two\", \"3\" : \"three\", \"4\" : \"four\",\n",
    "         \"5\" : \"five\", \"6\" : \"six\", \"7\" : \"seven\", \"8\" : \"eight\",\n",
    "         \"9\" : \"nine\", \"10\" : \"ten\", \"11\" : \"eleven\", \"12\" : \"twelve\",\n",
    "         \"13\" : \"thirteen\", \"14\" : \"fourteen\", \"15\" : \"fifteen\",\n",
    "         \"16\" : \"sixteen\", \"17\" : \"seventeen\", \"18\" : \"eighteen\",\n",
    "         \"19\" : \"nineteen\", \"20\" : \"twenty\", \"30\" : \"thirty\", \"40\" : \"fourty\",\n",
    "         \"50\" : \"fifty\", \"60\" : \"sixty\", \"70\" : \"seventy\", \"80\" : \"eighty\", \"90\" : \"ninety\",\n",
    "         \"1000\" : \"thousand\"}\n",
    "\n"
   ]
  },
  {
   "cell_type": "code",
   "execution_count": null,
   "metadata": {},
   "outputs": [],
   "source": [
    "for number in range(0,1001):\n",
    "    if number % 1000 == 0:\n",
    "\n",
    "    if number_rem % 100 == 0:\n",
    "        \n",
    "        if number_rem_2 % 10 == 0:\n",
    "        \n",
    "    "
   ]
  },
  {
   "cell_type": "code",
   "execution_count": null,
   "metadata": {},
   "outputs": [],
   "source": []
  }
 ],
 "metadata": {
  "kernelspec": {
   "display_name": "Python 3",
   "language": "python",
   "name": "python3"
  },
  "language_info": {
   "codemirror_mode": {
    "name": "ipython",
    "version": 3
   },
   "file_extension": ".py",
   "mimetype": "text/x-python",
   "name": "python",
   "nbconvert_exporter": "python",
   "pygments_lexer": "ipython3",
   "version": "3.6.5"
  }
 },
 "nbformat": 4,
 "nbformat_minor": 2
}
