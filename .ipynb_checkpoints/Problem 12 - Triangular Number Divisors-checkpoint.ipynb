{
 "cells": [
  {
   "cell_type": "code",
   "execution_count": 6,
   "metadata": {},
   "outputs": [],
   "source": [
    "addition = 2\n",
    "tri_num = 1\n",
    "divisors = 0\n",
    "do_break = False\n",
    "\n",
    "\n",
    "while do_break == False: #loop to iterate triangular numbers\n",
    "    \n",
    "    divisors = 0\n",
    "    potential_factor = 1\n",
    "    \n",
    "    while potential_factor <= tri_num: #loop to count the factors of this iteration's triangular number\n",
    "        \n",
    "        if tri_num%potential_factor == 0: #if the potential factor is a factor then increment counter\n",
    "            divisors += 1\n",
    "            \n",
    "        if potential_factor > (tri_num)**(0.5): #this is to optimise the code otherwise it takes over 5 minutes\n",
    "            break\n",
    "            \n",
    "        if divisors == 250: #this basically accounts for the symmetry in factorisation and cuts off everything after the sqrt\n",
    "            do_break = True\n",
    "            break\n",
    "            \n",
    "        potential_factor += 1\n",
    "        \n",
    "    if do_break == False:   \n",
    "        tri_num += addition\n",
    "        addition += 1\n",
    "    \n"
   ]
  },
  {
   "cell_type": "code",
   "execution_count": 7,
   "metadata": {},
   "outputs": [
    {
     "data": {
      "text/plain": [
       "76576500"
      ]
     },
     "execution_count": 7,
     "metadata": {},
     "output_type": "execute_result"
    }
   ],
   "source": [
    "tri_num"
   ]
  },
  {
   "cell_type": "code",
   "execution_count": null,
   "metadata": {},
   "outputs": [],
   "source": []
  }
 ],
 "metadata": {
  "kernelspec": {
   "display_name": "Python 3",
   "language": "python",
   "name": "python3"
  },
  "language_info": {
   "codemirror_mode": {
    "name": "ipython",
    "version": 3
   },
   "file_extension": ".py",
   "mimetype": "text/x-python",
   "name": "python",
   "nbconvert_exporter": "python",
   "pygments_lexer": "ipython3",
   "version": "3.6.5"
  }
 },
 "nbformat": 4,
 "nbformat_minor": 2
}
