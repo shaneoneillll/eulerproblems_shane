{
 "cells": [
  {
   "cell_type": "code",
   "execution_count": null,
   "metadata": {},
   "outputs": [],
   "source": [
    "#This only sucks because n is set to 6 trillion\n",
    "n = 600851475143\n",
    "\n",
    "\n",
    "primes = [2] #list to start off primes\n",
    "prime_list = []\n",
    "a = 0\n",
    "i = 2\n",
    "multiple = 1\n",
    "while i < n: #count through iterations from 2 onwards\n",
    "    index = 0 #this will reset the index value to 0 for every iteration of the inside loop  \n",
    "    while index < (len(primes) -1): #while the index value is less than the highest index value\n",
    "        if i % primes[index] == 0: #if i is divisible by any of the previous primes, break and restart with an increment i value\n",
    "            break\n",
    "        else: #if i is not divisble by the current prime, increment the index and check the next prime\n",
    "            index += 1\n",
    "    if index == (len(primes) - 1): #if the index value cycles throught he whole list and i has no prime factors then i is a prime\n",
    "        if n % i == 0:\n",
    "            primes.append(i)#add it to the list\n",
    "            print(i) #BOOM!\n",
    "   \n",
    "            \n",
    "    i += 1 #the loop restarts on the next i value\n",
    "            \n",
    "\n"
   ]
  },
  {
   "cell_type": "code",
   "execution_count": null,
   "metadata": {},
   "outputs": [],
   "source": [
    "#Adam's smart version\n",
    "n=600851475143\n",
    "i=1;\n",
    "\n",
    "while i<=n-1:\n",
    "    j=0;\n",
    "    if n%i==0:\n",
    "        k=1;\n",
    "        while k<=i:\n",
    "            if i%k==0:\n",
    "                j=j+1;\n",
    "            if j>2:\n",
    "                break;\n",
    "            k=k+1;\n",
    "        if j==2:\n",
    "            print(i);\n",
    "    i=i+1;"
   ]
  }
 ],
 "metadata": {
  "kernelspec": {
   "display_name": "Python 3",
   "language": "python",
   "name": "python3"
  },
  "language_info": {
   "codemirror_mode": {
    "name": "ipython",
    "version": 3
   },
   "file_extension": ".py",
   "mimetype": "text/x-python",
   "name": "python",
   "nbconvert_exporter": "python",
   "pygments_lexer": "ipython3",
   "version": "3.6.5"
  }
 },
 "nbformat": 4,
 "nbformat_minor": 2
}
